{
 "cells": [
  {
   "cell_type": "code",
   "execution_count": 2,
   "metadata": {},
   "outputs": [],
   "source": [
    "import torch\n",
    "import sys\n",
    "sys.path.append('/home/cyang314/ucr_work/add-thin')\n",
    "\n",
    "from add_thin.metrics import forecast_wasserstein\n",
    "from add_thin.evaluate_utils import get_task, get_run_data"
   ]
  },
  {
   "cell_type": "code",
   "execution_count": 3,
   "metadata": {},
   "outputs": [],
   "source": [
    "# Set run id and paths\n",
    "RUN_ID = \"naflz4ti\"\n",
    "\n",
    "WANDB_DIR = \"/home/cyang314/ucr_work/add-thin/wandb\"\n",
    "PROJECT_ROOT = \"/home/cyang314/ucr_work/add-thin/\"  # should include data folder"
   ]
  },
  {
   "cell_type": "code",
   "execution_count": 4,
   "metadata": {},
   "outputs": [],
   "source": [
    "def sample_model(task, datamodule):\n",
    "    \"\"\"\n",
    "    Sample forecasts from model.\n",
    "    \"\"\"\n",
    "    samples = []\n",
    "    targets = []\n",
    "    mapes = []\n",
    "    with torch.no_grad():\n",
    "        for batch in datamodule.test_dataloader():\n",
    "            batch.to(task.device)\n",
    "            # Sample 50 forecasts\n",
    "            for _ in range(10):\n",
    "                # Set history\n",
    "                future, tmax, tmin = task.set_history(\n",
    "                    batch.concat(batch, batch, batch, batch)\n",
    "                )  # Note that we are using the same batch 5 times to get 5 different histories\n",
    "\n",
    "                # Sample forecasts from model\n",
    "                sample = task.model.sample(\n",
    "                    len(future),\n",
    "                    tmax=future.tmax,\n",
    "                )\n",
    "\n",
    "                # Rescale and shift to right forecast window\n",
    "                sample.time = (sample.time / future.tmax) * (tmax - tmin)[\n",
    "                    :, None\n",
    "                ] + tmin[:, None]\n",
    "\n",
    "                # Calculate Absolute Percentage Error\n",
    "                mapes.append(\n",
    "                    (\n",
    "                        torch.abs(future.mask.sum(-1) - sample.mask.sum(-1))\n",
    "                        / (future.mask.sum(-1) + 1)\n",
    "                    )\n",
    "                    .detach()\n",
    "                    .cpu()\n",
    "                )\n",
    "\n",
    "                samples = samples + sample.to_time_list()\n",
    "                targets = targets + future.to_time_list()\n",
    "\n",
    "    return samples, targets, mapes"
   ]
  },
  {
   "cell_type": "code",
   "execution_count": 5,
   "metadata": {},
   "outputs": [
    {
     "name": "stderr",
     "output_type": "stream",
     "text": [
      "/home/cyang314/ucr_work/add-thin/add_thin/data.py:659: FutureWarning: You are using `torch.load` with `weights_only=False` (the current default value), which uses the default pickle module implicitly. It is possible to construct malicious pickle data which will execute arbitrary code during unpickling (See https://github.com/pytorch/pytorch/blob/main/SECURITY.md#untrusted-models for more details). In a future release, the default value for `weights_only` will be flipped to `True`. This limits the functions that could be executed during unpickling. Arbitrary objects will no longer be allowed to be loaded via this mode unless they are explicitly allowlisted by the user via `torch.serialization.add_safe_globals`. We recommend you start setting `weights_only=True` for any use case where you don't have full control of the loaded file. Please open an issue on GitHub for any issues related to this experimental feature.\n",
      "  loader = torch.load(path, map_location=device)\n",
      "/home/cyang314/.conda/envs/add-thin/lib/python3.10/site-packages/lightning_fabric/utilities/cloud_io.py:51: FutureWarning: You are using `torch.load` with `weights_only=False` (the current default value), which uses the default pickle module implicitly. It is possible to construct malicious pickle data which will execute arbitrary code during unpickling (See https://github.com/pytorch/pytorch/blob/main/SECURITY.md#untrusted-models for more details). In a future release, the default value for `weights_only` will be flipped to `True`. This limits the functions that could be executed during unpickling. Arbitrary objects will no longer be allowed to be loaded via this mode unless they are explicitly allowlisted by the user via `torch.serialization.add_safe_globals`. We recommend you start setting `weights_only=True` for any use case where you don't have full control of the loaded file. Please open an issue on GitHub for any issues related to this experimental feature.\n",
      "  return torch.load(f, map_location=map_location)  # type: ignore[arg-type]\n"
     ]
    },
    {
     "ename": "AttributeError",
     "evalue": "'AddThin' object has no attribute 'forecast_window'",
     "output_type": "error",
     "traceback": [
      "\u001b[0;31m---------------------------------------------------------------------------\u001b[0m",
      "\u001b[0;31mAttributeError\u001b[0m                            Traceback (most recent call last)",
      "Cell \u001b[0;32mIn[5], line 8\u001b[0m\n\u001b[1;32m      5\u001b[0m task, datamodule \u001b[38;5;241m=\u001b[39m get_task(run_path, density\u001b[38;5;241m=\u001b[39m\u001b[38;5;28;01mFalse\u001b[39;00m, data_root\u001b[38;5;241m=\u001b[39mPROJECT_ROOT)\n\u001b[1;32m      7\u001b[0m \u001b[38;5;66;03m# Sample forecasts\u001b[39;00m\n\u001b[0;32m----> 8\u001b[0m samples, targets, mapes \u001b[38;5;241m=\u001b[39m \u001b[43msample_model\u001b[49m\u001b[43m(\u001b[49m\u001b[43mtask\u001b[49m\u001b[43m,\u001b[49m\u001b[43m \u001b[49m\u001b[43mdatamodule\u001b[49m\u001b[43m)\u001b[49m\n\u001b[1;32m     10\u001b[0m \u001b[38;5;66;03m# Calculate Wasserstein distance and MAPE\u001b[39;00m\n\u001b[1;32m     11\u001b[0m wassertstein_distance \u001b[38;5;241m=\u001b[39m forecast_wasserstein(\n\u001b[1;32m     12\u001b[0m     samples,\n\u001b[1;32m     13\u001b[0m     targets,\n\u001b[1;32m     14\u001b[0m     datamodule\u001b[38;5;241m.\u001b[39mtmax\u001b[38;5;241m.\u001b[39mdetach()\u001b[38;5;241m.\u001b[39mcpu()\u001b[38;5;241m.\u001b[39mitem(),\n\u001b[1;32m     15\u001b[0m )\n",
      "Cell \u001b[0;32mIn[4], line 14\u001b[0m, in \u001b[0;36msample_model\u001b[0;34m(task, datamodule)\u001b[0m\n\u001b[1;32m     11\u001b[0m \u001b[38;5;66;03m# Sample 50 forecasts\u001b[39;00m\n\u001b[1;32m     12\u001b[0m \u001b[38;5;28;01mfor\u001b[39;00m _ \u001b[38;5;129;01min\u001b[39;00m \u001b[38;5;28mrange\u001b[39m(\u001b[38;5;241m10\u001b[39m):\n\u001b[1;32m     13\u001b[0m     \u001b[38;5;66;03m# Set history\u001b[39;00m\n\u001b[0;32m---> 14\u001b[0m     future, tmax, tmin \u001b[38;5;241m=\u001b[39m \u001b[43mtask\u001b[49m\u001b[38;5;241;43m.\u001b[39;49m\u001b[43mset_history\u001b[49m\u001b[43m(\u001b[49m\n\u001b[1;32m     15\u001b[0m \u001b[43m        \u001b[49m\u001b[43mbatch\u001b[49m\u001b[38;5;241;43m.\u001b[39;49m\u001b[43mconcat\u001b[49m\u001b[43m(\u001b[49m\u001b[43mbatch\u001b[49m\u001b[43m,\u001b[49m\u001b[43m \u001b[49m\u001b[43mbatch\u001b[49m\u001b[43m,\u001b[49m\u001b[43m \u001b[49m\u001b[43mbatch\u001b[49m\u001b[43m,\u001b[49m\u001b[43m \u001b[49m\u001b[43mbatch\u001b[49m\u001b[43m)\u001b[49m\n\u001b[1;32m     16\u001b[0m \u001b[43m    \u001b[49m\u001b[43m)\u001b[49m  \u001b[38;5;66;03m# Note that we are using the same batch 5 times to get 5 different histories\u001b[39;00m\n\u001b[1;32m     18\u001b[0m     \u001b[38;5;66;03m# Sample forecasts from model\u001b[39;00m\n\u001b[1;32m     19\u001b[0m     sample \u001b[38;5;241m=\u001b[39m task\u001b[38;5;241m.\u001b[39mmodel\u001b[38;5;241m.\u001b[39msample(\n\u001b[1;32m     20\u001b[0m         \u001b[38;5;28mlen\u001b[39m(future),\n\u001b[1;32m     21\u001b[0m         tmax\u001b[38;5;241m=\u001b[39mfuture\u001b[38;5;241m.\u001b[39mtmax,\n\u001b[1;32m     22\u001b[0m     )\n",
      "File \u001b[0;32m~/ucr_work/add-thin/add_thin/tasks.py:129\u001b[0m, in \u001b[0;36mForecasting.set_history\u001b[0;34m(self, batch)\u001b[0m\n\u001b[1;32m    125\u001b[0m \u001b[38;5;28;01mdef\u001b[39;00m \u001b[38;5;21mset_history\u001b[39m(\u001b[38;5;28mself\u001b[39m, batch):\n\u001b[1;32m    126\u001b[0m     \u001b[38;5;66;03m# Sample random start time for forecast window\u001b[39;00m\n\u001b[1;32m    127\u001b[0m     times \u001b[38;5;241m=\u001b[39m (\n\u001b[1;32m    128\u001b[0m         torch\u001b[38;5;241m.\u001b[39mrand((\u001b[38;5;28mlen\u001b[39m(batch),), device\u001b[38;5;241m=\u001b[39mbatch\u001b[38;5;241m.\u001b[39mtmax\u001b[38;5;241m.\u001b[39mdevice)\n\u001b[0;32m--> 129\u001b[0m         \u001b[38;5;241m*\u001b[39m (batch\u001b[38;5;241m.\u001b[39mtmax \u001b[38;5;241m-\u001b[39m \u001b[38;5;241m2\u001b[39m \u001b[38;5;241m*\u001b[39m \u001b[38;5;28;43mself\u001b[39;49m\u001b[38;5;241;43m.\u001b[39;49m\u001b[43mmodel\u001b[49m\u001b[38;5;241;43m.\u001b[39;49m\u001b[43mforecast_window\u001b[49m)\n\u001b[1;32m    130\u001b[0m         \u001b[38;5;241m+\u001b[39m \u001b[38;5;28mself\u001b[39m\u001b[38;5;241m.\u001b[39mmodel\u001b[38;5;241m.\u001b[39mforecast_window\n\u001b[1;32m    131\u001b[0m     )\n\u001b[1;32m    132\u001b[0m     \u001b[38;5;66;03m# Get history, future, and bounds of forecast window\u001b[39;00m\n\u001b[1;32m    133\u001b[0m     history, future, forecast_end, forecast_start \u001b[38;5;241m=\u001b[39m batch\u001b[38;5;241m.\u001b[39msplit_time(\n\u001b[1;32m    134\u001b[0m         times, times \u001b[38;5;241m+\u001b[39m \u001b[38;5;28mself\u001b[39m\u001b[38;5;241m.\u001b[39mmodel\u001b[38;5;241m.\u001b[39mforecast_window\n\u001b[1;32m    135\u001b[0m     )\n",
      "File \u001b[0;32m~/.conda/envs/add-thin/lib/python3.10/site-packages/torch/nn/modules/module.py:1931\u001b[0m, in \u001b[0;36mModule.__getattr__\u001b[0;34m(self, name)\u001b[0m\n\u001b[1;32m   1929\u001b[0m     \u001b[38;5;28;01mif\u001b[39;00m name \u001b[38;5;129;01min\u001b[39;00m modules:\n\u001b[1;32m   1930\u001b[0m         \u001b[38;5;28;01mreturn\u001b[39;00m modules[name]\n\u001b[0;32m-> 1931\u001b[0m \u001b[38;5;28;01mraise\u001b[39;00m \u001b[38;5;167;01mAttributeError\u001b[39;00m(\n\u001b[1;32m   1932\u001b[0m     \u001b[38;5;124mf\u001b[39m\u001b[38;5;124m\"\u001b[39m\u001b[38;5;124m'\u001b[39m\u001b[38;5;132;01m{\u001b[39;00m\u001b[38;5;28mtype\u001b[39m(\u001b[38;5;28mself\u001b[39m)\u001b[38;5;241m.\u001b[39m\u001b[38;5;18m__name__\u001b[39m\u001b[38;5;132;01m}\u001b[39;00m\u001b[38;5;124m'\u001b[39m\u001b[38;5;124m object has no attribute \u001b[39m\u001b[38;5;124m'\u001b[39m\u001b[38;5;132;01m{\u001b[39;00mname\u001b[38;5;132;01m}\u001b[39;00m\u001b[38;5;124m'\u001b[39m\u001b[38;5;124m\"\u001b[39m\n\u001b[1;32m   1933\u001b[0m )\n",
      "\u001b[0;31mAttributeError\u001b[0m: 'AddThin' object has no attribute 'forecast_window'"
     ]
    }
   ],
   "source": [
    "# Get run data\n",
    "data_name, seed, run_path = get_run_data(RUN_ID, WANDB_DIR)\n",
    "\n",
    "# Get task and datamodule\n",
    "task, datamodule = get_task(run_path, density=False, data_root=PROJECT_ROOT)\n",
    "\n",
    "# Sample forecasts\n",
    "samples, targets, mapes = sample_model(task, datamodule)\n",
    "\n",
    "# Calculate Wasserstein distance and MAPE\n",
    "wassertstein_distance = forecast_wasserstein(\n",
    "    samples,\n",
    "    targets,\n",
    "    datamodule.tmax.detach().cpu().item(),\n",
    ")\n",
    "MAPE = torch.cat(mapes).mean()\n",
    "\n",
    "# Print rounded results for data and seed\n",
    "print(\"ADD and Thin forecast evaluation:\")\n",
    "print(\"================================\")\n",
    "print(\n",
    "    f\"{data_name} (Seed: {seed}): Wasserstein: {wassertstein_distance:.3f}, MAPE: {MAPE:.3f}\"\n",
    ")"
   ]
  }
 ],
 "metadata": {
  "kernelspec": {
   "display_name": "add-thin",
   "language": "python",
   "name": "python3"
  },
  "language_info": {
   "codemirror_mode": {
    "name": "ipython",
    "version": 3
   },
   "file_extension": ".py",
   "mimetype": "text/x-python",
   "name": "python",
   "nbconvert_exporter": "python",
   "pygments_lexer": "ipython3",
   "version": "3.10.4"
  }
 },
 "nbformat": 4,
 "nbformat_minor": 4
}
